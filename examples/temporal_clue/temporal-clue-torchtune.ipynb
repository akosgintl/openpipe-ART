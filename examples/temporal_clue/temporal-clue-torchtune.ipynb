{
 "cells": [
  {
   "cell_type": "code",
   "execution_count": 1,
   "metadata": {},
   "outputs": [],
   "source": [
    "%load_ext autoreload\n",
    "%autoreload 2"
   ]
  },
  {
   "cell_type": "code",
   "execution_count": 2,
   "metadata": {},
   "outputs": [
    {
     "data": {
      "text/html": [
       "<style>\n",
       ".cell-output-ipywidget-background {\n",
       "    background-color: transparent !important;\n",
       "}\n",
       ":root {\n",
       "    --jp-widgets-color: var(--vscode-editor-foreground);\n",
       "    --jp-widgets-font-size: var(--vscode-editor-font-size);\n",
       "}  \n",
       "</style>\n"
      ],
      "text/plain": [
       "<IPython.core.display.HTML object>"
      ]
     },
     "metadata": {},
     "output_type": "display_data"
    }
   ],
   "source": [
    "%%html\n",
    "<style>\n",
    ".cell-output-ipywidget-background {\n",
    "    background-color: transparent !important;\n",
    "}\n",
    ":root {\n",
    "    --jp-widgets-color: var(--vscode-editor-foreground);\n",
    "    --jp-widgets-font-size: var(--vscode-editor-font-size);\n",
    "}  \n",
    "</style>"
   ]
  },
  {
   "cell_type": "code",
   "execution_count": null,
   "metadata": {},
   "outputs": [
    {
     "name": "stderr",
     "output_type": "stream",
     "text": [
      "\u001b[34m\u001b[1mwandb\u001b[0m: Currently logged in as: \u001b[33mbradhilton\u001b[0m to \u001b[32mhttps://api.wandb.ai\u001b[0m. Use \u001b[1m`wandb login --relogin`\u001b[0m to force relogin\n"
     ]
    },
    {
     "data": {
      "text/html": [
       "Tracking run with wandb version 0.20.0"
      ],
      "text/plain": [
       "<IPython.core.display.HTML object>"
      ]
     },
     "metadata": {},
     "output_type": "display_data"
    },
    {
     "data": {
      "text/html": [
       "Run data is saved locally in <code>/root/sky_workdir/examples/temporal_clue/wandb/run-20250709_163056-001</code>"
      ],
      "text/plain": [
       "<IPython.core.display.HTML object>"
      ]
     },
     "metadata": {},
     "output_type": "display_data"
    },
    {
     "data": {
      "text/html": [
       "Resuming run <strong><a href='https://wandb.ai/bradhilton/temporal-clue/runs/001' target=\"_blank\">001</a></strong> to <a href='https://wandb.ai/bradhilton/temporal-clue' target=\"_blank\">Weights & Biases</a> (<a href='https://wandb.me/developer-guide' target=\"_blank\">docs</a>)<br>"
      ],
      "text/plain": [
       "<IPython.core.display.HTML object>"
      ]
     },
     "metadata": {},
     "output_type": "display_data"
    },
    {
     "data": {
      "text/html": [
       " View project at <a href='https://wandb.ai/bradhilton/temporal-clue' target=\"_blank\">https://wandb.ai/bradhilton/temporal-clue</a>"
      ],
      "text/plain": [
       "<IPython.core.display.HTML object>"
      ]
     },
     "metadata": {},
     "output_type": "display_data"
    },
    {
     "data": {
      "text/html": [
       " View run at <a href='https://wandb.ai/bradhilton/temporal-clue/runs/001' target=\"_blank\">https://wandb.ai/bradhilton/temporal-clue/runs/001</a>"
      ],
      "text/plain": [
       "<IPython.core.display.HTML object>"
      ]
     },
     "metadata": {},
     "output_type": "display_data"
    },
    {
     "name": "stdout",
     "output_type": "stream",
     "text": [
      "INFO 07-09 16:31:05 [__init__.py:244] Automatically detected platform cuda.\n",
      "WARNING 07-09 16:31:16 [env_override.py:17] NCCL_CUMEM_ENABLE is set to 0, skipping override. This may increase memory overhead with cudagraph+allreduce: https://github.com/NVIDIA/nccl/issues/1234\n",
      "INFO 07-09 16:31:17 [__init__.py:244] Automatically detected platform cuda.\n",
      "/root/.cache/huggingface/hub/models--Qwen--Qwen2.5-14B-Instruct/snapshots/cf98f3b3bbb457ad9e2bb7baf9a0125b6b88caa8\n",
      "INFO 07-09 16:31:33 [config.py:823] This model supports multiple tasks: {'generate', 'classify', 'score', 'reward', 'embed'}. Defaulting to 'generate'.\n",
      "INFO 07-09 16:31:33 [config.py:1946] Defaulting to use mp for distributed inference\n",
      "INFO 07-09 16:31:33 [config.py:2195] Chunked prefill is enabled with max_num_batched_tokens=2048.\n",
      "WARNING 07-09 16:31:34 [utils.py:2597] We must use the `spawn` multiprocessing start method. Overriding VLLM_WORKER_MULTIPROC_METHOD to 'spawn'. See https://docs.vllm.ai/en/latest/usage/troubleshooting.html#python-multiprocessing for more information. Reason: CUDA is initialized\n",
      "WARNING 07-09 16:31:36 [env_override.py:17] NCCL_CUMEM_ENABLE is set to 0, skipping override. This may increase memory overhead with cudagraph+allreduce: https://github.com/NVIDIA/nccl/issues/1234\n",
      "INFO 07-09 16:31:38 [__init__.py:244] Automatically detected platform cuda.\n",
      "INFO 07-09 16:31:43 [core.py:455] Waiting for init message from front-end.\n",
      "INFO 07-09 16:31:43 [core.py:70] Initializing a V1 LLM engine (v0.9.1) with config: model='Qwen/Qwen2.5-14B-Instruct', speculative_config=None, tokenizer='Qwen/Qwen2.5-14B-Instruct', skip_tokenizer_init=False, tokenizer_mode=auto, revision=None, override_neuron_config={}, tokenizer_revision=None, trust_remote_code=False, dtype=torch.bfloat16, max_seq_len=32768, download_dir=None, load_format=auto, tensor_parallel_size=2, pipeline_parallel_size=1, disable_custom_all_reduce=False, quantization=None, enforce_eager=False, kv_cache_dtype=auto,  device_config=cuda, decoding_config=DecodingConfig(backend='auto', disable_fallback=False, disable_any_whitespace=False, disable_additional_properties=False, reasoning_backend=''), observability_config=ObservabilityConfig(show_hidden_metrics_for_version=None, otlp_traces_endpoint=None, collect_detailed_traces=None), seed=0, served_model_name=Qwen/Qwen2.5-14B-Instruct, num_scheduler_steps=1, multi_step_stream_outputs=True, enable_prefix_caching=True, chunked_prefill_enabled=True, use_async_output_proc=True, pooler_config=None, compilation_config={\"level\":3,\"debug_dump_path\":\"\",\"cache_dir\":\"\",\"backend\":\"\",\"custom_ops\":[\"none\"],\"splitting_ops\":[\"vllm.unified_attention\",\"vllm.unified_attention_with_output\"],\"use_inductor\":true,\"compile_sizes\":[],\"inductor_compile_config\":{\"enable_auto_functionalized_v2\":false},\"inductor_passes\":{},\"use_cudagraph\":true,\"cudagraph_num_of_warmups\":1,\"cudagraph_capture_sizes\":[512,504,496,488,480,472,464,456,448,440,432,424,416,408,400,392,384,376,368,360,352,344,336,328,320,312,304,296,288,280,272,264,256,248,240,232,224,216,208,200,192,184,176,168,160,152,144,136,128,120,112,104,96,88,80,72,64,56,48,40,32,24,16,8,4,2,1],\"cudagraph_copy_inputs\":false,\"full_cuda_graph\":false,\"max_capture_size\":512,\"local_cache_dir\":null}\n",
      "WARNING 07-09 16:31:43 [multiproc_worker_utils.py:307] Reducing Torch parallelism from 44 threads to 1 to avoid unnecessary CPU contention. Set OMP_NUM_THREADS in the external environment to tune this value as needed.\n",
      "INFO 07-09 16:31:43 [shm_broadcast.py:289] vLLM message queue communication handle: Handle(local_reader_ranks=[0, 1], buffer_handle=(2, 16777216, 10, 'psm_13107127'), local_subscribe_addr='ipc:///tmp/6d888fda-5593-488c-9949-ca4ab9dcc060', remote_subscribe_addr=None, remote_addr_ipv6=False)\n",
      "WARNING 07-09 16:31:44 [env_override.py:17] NCCL_CUMEM_ENABLE is set to 0, skipping override. This may increase memory overhead with cudagraph+allreduce: https://github.com/NVIDIA/nccl/issues/1234\n",
      "WARNING 07-09 16:31:44 [env_override.py:17] NCCL_CUMEM_ENABLE is set to 0, skipping override. This may increase memory overhead with cudagraph+allreduce: https://github.com/NVIDIA/nccl/issues/1234\n",
      "INFO 07-09 16:31:47 [__init__.py:244] Automatically detected platform cuda.\n",
      "INFO 07-09 16:31:47 [__init__.py:244] Automatically detected platform cuda.\n",
      "INFO 07-09 16:31:52 [worker_base.py:590] Injected <class 'art.vllm.engine.WorkerExtension'> into <class 'vllm.v1.worker.gpu_worker.Worker'> for extended collective_rpc calls ['run', 'time']\n",
      "WARNING 07-09 16:31:52 [utils.py:2737] Methods determine_num_available_blocks,device_config,get_cache_block_size_bytes,initialize_cache not implemented in <vllm.v1.worker.gpu_worker.Worker object at 0x7ff85231a2c0>\n",
      "\u001b[1;36m(VllmWorker rank=1 pid=53611)\u001b[0;0m INFO 07-09 16:31:52 [shm_broadcast.py:289] vLLM message queue communication handle: Handle(local_reader_ranks=[0], buffer_handle=(1, 10485760, 10, 'psm_a0a1e672'), local_subscribe_addr='ipc:///tmp/2eb1388f-bb11-4dcd-8358-2c0452179fd8', remote_subscribe_addr=None, remote_addr_ipv6=False)\n",
      "INFO 07-09 16:31:52 [worker_base.py:590] Injected <class 'art.vllm.engine.WorkerExtension'> into <class 'vllm.v1.worker.gpu_worker.Worker'> for extended collective_rpc calls ['run', 'time']\n",
      "WARNING 07-09 16:31:52 [utils.py:2737] Methods determine_num_available_blocks,device_config,get_cache_block_size_bytes,initialize_cache not implemented in <vllm.v1.worker.gpu_worker.Worker object at 0x7f31a0d72380>\n",
      "\u001b[1;36m(VllmWorker rank=0 pid=53610)\u001b[0;0m INFO 07-09 16:31:52 [shm_broadcast.py:289] vLLM message queue communication handle: Handle(local_reader_ranks=[0], buffer_handle=(1, 10485760, 10, 'psm_f26552c8'), local_subscribe_addr='ipc:///tmp/dfb46741-1e80-47d4-a876-c03d3e36a4a9', remote_subscribe_addr=None, remote_addr_ipv6=False)\n",
      "\u001b[1;36m(VllmWorker rank=1 pid=53611)\u001b[0;0m INFO 07-09 16:31:53 [utils.py:1126] Found nccl from library libnccl.so.2\n",
      "\u001b[1;36m(VllmWorker rank=0 pid=53610)\u001b[0;0m INFO 07-09 16:31:53 [utils.py:1126] Found nccl from library libnccl.so.2\n",
      "\u001b[1;36m(VllmWorker rank=1 pid=53611)\u001b[0;0m INFO 07-09 16:31:53 [pynccl.py:70] vLLM is using nccl==2.26.2\n",
      "\u001b[1;36m(VllmWorker rank=0 pid=53610)\u001b[0;0m INFO 07-09 16:31:53 [pynccl.py:70] vLLM is using nccl==2.26.2\n",
      "\u001b[1;36m(VllmWorker rank=1 pid=53611)\u001b[0;0m INFO 07-09 16:31:53 [custom_all_reduce_utils.py:246] reading GPU P2P access cache from /root/.cache/vllm/gpu_p2p_access_cache_for_0,1.json\n",
      "\u001b[1;36m(VllmWorker rank=0 pid=53610)\u001b[0;0m INFO 07-09 16:31:53 [custom_all_reduce_utils.py:246] reading GPU P2P access cache from /root/.cache/vllm/gpu_p2p_access_cache_for_0,1.json\n",
      "\u001b[1;36m(VllmWorker rank=0 pid=53610)\u001b[0;0m INFO 07-09 16:31:53 [shm_broadcast.py:289] vLLM message queue communication handle: Handle(local_reader_ranks=[1], buffer_handle=(1, 4194304, 6, 'psm_5e508f87'), local_subscribe_addr='ipc:///tmp/856a005e-6f66-49b9-b8ca-ff1eecd055ea', remote_subscribe_addr=None, remote_addr_ipv6=False)\n",
      "\u001b[1;36m(VllmWorker rank=0 pid=53610)\u001b[0;0m INFO 07-09 16:31:53 [parallel_state.py:1065] rank 0 in world size 2 is assigned as DP rank 0, PP rank 0, TP rank 0, EP rank 0\n",
      "\u001b[1;36m(VllmWorker rank=1 pid=53611)\u001b[0;0m INFO 07-09 16:31:53 [parallel_state.py:1065] rank 1 in world size 2 is assigned as DP rank 0, PP rank 0, TP rank 1, EP rank 1\n",
      "\u001b[1;36m(VllmWorker rank=0 pid=53610)\u001b[0;0m WARNING 07-09 16:31:53 [topk_topp_sampler.py:59] FlashInfer is not available. Falling back to the PyTorch-native implementation of top-p & top-k sampling. For the best performance, please install FlashInfer.\n",
      "\u001b[1;36m(VllmWorker rank=1 pid=53611)\u001b[0;0m WARNING 07-09 16:31:53 [topk_topp_sampler.py:59] FlashInfer is not available. Falling back to the PyTorch-native implementation of top-p & top-k sampling. For the best performance, please install FlashInfer.\n",
      "\u001b[1;36m(VllmWorker rank=0 pid=53610)\u001b[0;0m INFO 07-09 16:31:53 [gpu_model_runner.py:1595] Starting to load model Qwen/Qwen2.5-14B-Instruct...\n",
      "\u001b[1;36m(VllmWorker rank=1 pid=53611)\u001b[0;0m INFO 07-09 16:31:53 [gpu_model_runner.py:1595] Starting to load model Qwen/Qwen2.5-14B-Instruct...\n",
      "\u001b[1;36m(VllmWorker rank=1 pid=53611)\u001b[0;0m INFO 07-09 16:31:54 [gpu_model_runner.py:1600] Loading model from scratch...\n",
      "\u001b[1;36m(VllmWorker rank=0 pid=53610)\u001b[0;0m INFO 07-09 16:31:54 [gpu_model_runner.py:1600] Loading model from scratch...\n",
      "\u001b[1;36m(VllmWorker rank=1 pid=53611)\u001b[0;0m INFO 07-09 16:31:54 [cuda.py:252] Using Flash Attention backend on V1 engine.\n",
      "\u001b[1;36m(VllmWorker rank=0 pid=53610)\u001b[0;0m INFO 07-09 16:31:54 [cuda.py:252] Using Flash Attention backend on V1 engine.\n",
      "\u001b[1;36m(VllmWorker rank=0 pid=53610)\u001b[0;0m INFO 07-09 16:31:54 [weight_utils.py:292] Using model weights format ['*.safetensors']\n",
      "\u001b[1;36m(VllmWorker rank=1 pid=53611)\u001b[0;0m INFO 07-09 16:31:54 [weight_utils.py:292] Using model weights format ['*.safetensors']\n"
     ]
    },
    {
     "name": "stderr",
     "output_type": "stream",
     "text": [
      "Loading safetensors checkpoint shards:   0% Completed | 0/8 [00:00<?, ?it/s]\n",
      "Loading safetensors checkpoint shards:  12% Completed | 1/8 [00:11<01:17, 11.05s/it]\n",
      "Loading safetensors checkpoint shards:  25% Completed | 2/8 [00:21<01:04, 10.71s/it]\n",
      "Loading safetensors checkpoint shards:  38% Completed | 3/8 [00:31<00:52, 10.58s/it]\n",
      "Loading safetensors checkpoint shards:  50% Completed | 4/8 [00:42<00:42, 10.65s/it]\n",
      "Loading safetensors checkpoint shards:  62% Completed | 5/8 [00:53<00:31, 10.55s/it]\n",
      "Loading safetensors checkpoint shards:  75% Completed | 6/8 [01:01<00:19,  9.78s/it]\n",
      "Loading safetensors checkpoint shards:  88% Completed | 7/8 [01:04<00:07,  7.54s/it]\n",
      "Loading safetensors checkpoint shards: 100% Completed | 8/8 [01:14<00:00,  8.42s/it]\n",
      "Loading safetensors checkpoint shards: 100% Completed | 8/8 [01:14<00:00,  9.32s/it]\n",
      "\u001b[1;36m(VllmWorker rank=0 pid=53610)\u001b[0;0m \n"
     ]
    },
    {
     "name": "stdout",
     "output_type": "stream",
     "text": [
      "\u001b[1;36m(VllmWorker rank=0 pid=53610)\u001b[0;0m INFO 07-09 16:33:09 [default_loader.py:272] Loading weights took 74.67 seconds\n",
      "\u001b[1;36m(VllmWorker rank=1 pid=53611)\u001b[0;0m INFO 07-09 16:33:09 [default_loader.py:272] Loading weights took 74.43 seconds\n",
      "\u001b[1;36m(VllmWorker rank=0 pid=53610)\u001b[0;0m INFO 07-09 16:33:10 [gpu_model_runner.py:1624] Model loading took 13.9282 GiB and 75.593227 seconds\n",
      "\u001b[1;36m(VllmWorker rank=1 pid=53611)\u001b[0;0m INFO 07-09 16:33:10 [gpu_model_runner.py:1624] Model loading took 13.9282 GiB and 75.682700 seconds\n",
      "\u001b[1;36m(VllmWorker rank=0 pid=53610)\u001b[0;0m \u001b[1;36m(VllmWorker rank=1 pid=53611)\u001b[0;0m INFO 07-09 16:33:25 [backends.py:462] Using cache directory: /root/.cache/vllm/torch_compile_cache/b49082caa6/rank_0_0 for vLLM's torch.compile\n",
      "INFO 07-09 16:33:25 [backends.py:462] Using cache directory: /root/.cache/vllm/torch_compile_cache/b49082caa6/rank_1_0 for vLLM's torch.compile\n",
      "\u001b[1;36m(VllmWorker rank=1 pid=53611)\u001b[0;0m INFO 07-09 16:33:25 [backends.py:472] Dynamo bytecode transform time: 14.88 s\n",
      "\u001b[1;36m(VllmWorker rank=0 pid=53610)\u001b[0;0m INFO 07-09 16:33:25 [backends.py:472] Dynamo bytecode transform time: 15.08 s\n",
      "\u001b[1;36m(VllmWorker rank=1 pid=53611)\u001b[0;0m INFO 07-09 16:33:37 [backends.py:135] Directly load the compiled graph(s) for shape None from the cache, took 11.182 s\n",
      "\u001b[1;36m(VllmWorker rank=0 pid=53610)\u001b[0;0m INFO 07-09 16:33:37 [backends.py:135] Directly load the compiled graph(s) for shape None from the cache, took 11.400 s\n",
      "\u001b[1;36m(VllmWorker rank=1 pid=53611)\u001b[0;0m INFO 07-09 16:33:42 [monitor.py:34] torch.compile takes 14.88 s in total\n",
      "\u001b[1;36m(VllmWorker rank=0 pid=53610)\u001b[0;0m INFO 07-09 16:33:42 [monitor.py:34] torch.compile takes 15.08 s in total\n",
      "\u001b[1;36m(VllmWorker rank=0 pid=53610)\u001b[0;0m INFO 07-09 16:33:43 [gpu_worker.py:227] Available KV cache memory: 30.47 GiB\n",
      "\u001b[1;36m(VllmWorker rank=1 pid=53611)\u001b[0;0m INFO 07-09 16:33:43 [gpu_worker.py:227] Available KV cache memory: 30.47 GiB\n",
      "INFO 07-09 16:33:44 [kv_cache_utils.py:715] GPU KV cache size: 332,784 tokens\n",
      "INFO 07-09 16:33:44 [kv_cache_utils.py:719] Maximum concurrency for 32,768 tokens per request: 10.16x\n",
      "INFO 07-09 16:33:44 [kv_cache_utils.py:715] GPU KV cache size: 332,784 tokens\n",
      "INFO 07-09 16:33:44 [kv_cache_utils.py:719] Maximum concurrency for 32,768 tokens per request: 10.16x\n",
      "\u001b[1;36m(VllmWorker rank=0 pid=53610)\u001b[0;0m INFO 07-09 16:34:13 [custom_all_reduce.py:196] Registering 6499 cuda graph addresses\n",
      "\u001b[1;36m(VllmWorker rank=1 pid=53611)\u001b[0;0m INFO 07-09 16:34:16 [custom_all_reduce.py:196] Registering 6499 cuda graph addresses\n",
      "\u001b[1;36m(VllmWorker rank=1 pid=53611)\u001b[0;0m INFO 07-09 16:34:16 [gpu_model_runner.py:2048] Graph capturing finished in 32 secs, took 0.72 GiB\n",
      "\u001b[1;36m(VllmWorker rank=0 pid=53610)\u001b[0;0m INFO 07-09 16:34:16 [gpu_model_runner.py:2048] Graph capturing finished in 32 secs, took 0.72 GiB\n",
      "INFO 07-09 16:34:16 [core.py:171] init engine (profile, create kv cache, warmup model) took 66.36 seconds\n",
      "INFO 07-09 16:34:17 [loggers.py:137] Engine 000: vllm cache_config_info with initialization after num_gpu_blocks is: 20799\n"
     ]
    },
    {
     "data": {
      "application/vnd.jupyter.widget-view+json": {
       "model_id": "4f58f7b222ce4657a63b07bef5a51b36",
       "version_major": 2,
       "version_minor": 0
      },
      "text/plain": [
       "val:   0%|          | 0/128 [00:00<?, ?it/s]"
      ]
     },
     "metadata": {},
     "output_type": "display_data"
    },
    {
     "data": {
      "application/vnd.jupyter.widget-view+json": {
       "model_id": "fd33247fbf674a6d8783cf7a3c2b5904",
       "version_major": 2,
       "version_minor": 0
      },
      "text/plain": [
       "train:   0%|          | 0/400 [00:00<?, ?it/s]"
      ]
     },
     "metadata": {},
     "output_type": "display_data"
    },
    {
     "name": "stdout",
     "output_type": "stream",
     "text": [
      "Packed 381 trajectories into 92 sequences of length 6144\n"
     ]
    },
    {
     "data": {
      "application/vnd.jupyter.widget-view+json": {
       "model_id": "79de2f46ff2644cea6d1b994d48f478a",
       "version_major": 2,
       "version_minor": 0
      },
      "text/plain": [
       "train:   0%|          | 0/46 [00:00<?, ?it/s]"
      ]
     },
     "metadata": {},
     "output_type": "display_data"
    },
    {
     "name": "stdout",
     "output_type": "stream",
     "text": [
      "ERROR 07-09 16:46:12 [multiproc_executor.py:140] Worker proc VllmWorker-0 died unexpectedly, shutting down executor.\n"
     ]
    },
    {
     "name": "stderr",
     "output_type": "stream",
     "text": [
      "[rank1]:[W709 16:46:12.010522873 TCPStore.cpp:125] [c10d] recvValue failed on SocketImpl(fd=77, addr=[localhost]:47192, remote=[localhost]:51839): Connection reset by peer\n",
      "Exception raised from recvBytes at /pytorch/torch/csrc/distributed/c10d/Utils.hpp:675 (most recent call first):\n",
      "frame #0: c10::Error::Error(c10::SourceLocation, std::__cxx11::basic_string<char, std::char_traits<char>, std::allocator<char> >) + 0x98 (0x7ff95e9785e8 in /root/sky_workdir/.venv/lib/python3.10/site-packages/torch/lib/libc10.so)\n",
      "frame #1: <unknown function> + 0x5ba8afe (0x7ff947836afe in /root/sky_workdir/.venv/lib/python3.10/site-packages/torch/lib/libtorch_cpu.so)\n",
      "frame #2: <unknown function> + 0x5baaecf (0x7ff947838ecf in /root/sky_workdir/.venv/lib/python3.10/site-packages/torch/lib/libtorch_cpu.so)\n",
      "frame #3: <unknown function> + 0x5bab74a (0x7ff94783974a in /root/sky_workdir/.venv/lib/python3.10/site-packages/torch/lib/libtorch_cpu.so)\n",
      "frame #4: c10d::TCPStore::check(std::vector<std::__cxx11::basic_string<char, std::char_traits<char>, std::allocator<char> >, std::allocator<std::__cxx11::basic_string<char, std::char_traits<char>, std::allocator<char> > > > const&) + 0x2a9 (0x7ff9478331a9 in /root/sky_workdir/.venv/lib/python3.10/site-packages/torch/lib/libtorch_cpu.so)\n",
      "frame #5: c10d::ProcessGroupNCCL::heartbeatMonitor() + 0x379 (0x7ff904a2c9a9 in /root/sky_workdir/.venv/lib/python3.10/site-packages/torch/lib/libtorch_cuda.so)\n",
      "frame #6: <unknown function> + 0xdbbf4 (0x7ff8f49efbf4 in /root/miniconda3/bin/../lib/libstdc++.so.6)\n",
      "frame #7: <unknown function> + 0x94ac3 (0x7ff95f97bac3 in /lib/x86_64-linux-gnu/libc.so.6)\n",
      "frame #8: <unknown function> + 0x126850 (0x7ff95fa0d850 in /lib/x86_64-linux-gnu/libc.so.6)\n",
      "\n",
      "[rank1]:[W709 16:46:12.043896567 ProcessGroupNCCL.cpp:1659] [PG ID 0 PG GUID 0 Rank 1] Failed to check the \"should dump\" flag on TCPStore, (maybe TCPStore server has shut down too early), with error: Connection reset by peer\n"
     ]
    }
   ],
   "source": [
    "import art\n",
    "import asyncio\n",
    "from dotenv import load_dotenv\n",
    "import json\n",
    "import random\n",
    "import re\n",
    "from typing import TypedDict\n",
    "\n",
    "from art.local import LocalBackend\n",
    "\n",
    "load_dotenv()\n",
    "\n",
    "\n",
    "class TemporalCluePuzzle(TypedDict):\n",
    "    num_clues: int\n",
    "    prompt: str\n",
    "    solution: dict[str, str]\n",
    "\n",
    "\n",
    "puzzles_path = \"../data/temporal-clue/puzzles.json\"\n",
    "puzzles: list[TemporalCluePuzzle] = json.loads(open(puzzles_path).read())\n",
    "val_puzzles = puzzles[:64]\n",
    "test_puzzles = puzzles[64:128]\n",
    "train_puzzles = puzzles[128:]\n",
    "random.seed(42)\n",
    "random.shuffle(train_puzzles)\n",
    "\n",
    "\n",
    "async def rollout(model: art.Model, puzzle: TemporalCluePuzzle) -> art.Trajectory:\n",
    "    messages: art.Messages = [{\"role\": \"user\", \"content\": puzzle[\"prompt\"]}]\n",
    "    client = model.openai_client()\n",
    "    chat_completion = await client.chat.completions.create(\n",
    "        messages=messages, model=model.name\n",
    "    )\n",
    "    choice = chat_completion.choices[0]\n",
    "    content = choice.message.content\n",
    "    assert isinstance(content, str)\n",
    "    num_correct = 0\n",
    "    for key, value in puzzle[\"solution\"].items():\n",
    "        if matches := re.findall(rf\"{key}\\. ([A-Za-z \\.:-]+)\", content):\n",
    "            match = matches[-1]\n",
    "            if match.strip().lower() == value.lower():\n",
    "                num_correct += 1\n",
    "    reward = acc = num_correct / len(puzzle[\"solution\"])\n",
    "    return art.Trajectory(\n",
    "        messages_and_choices=[*messages, choice], reward=reward, metrics={\"acc\": acc}\n",
    "    )\n",
    "\n",
    "\n",
    "model = art.TrainableModel(\n",
    "    name=\"001\",\n",
    "    project=\"temporal-clue\",\n",
    "    base_model=\"Qwen/Qwen2.5-14B-Instruct\",\n",
    "    _internal_config={\n",
    "        \"engine_args\": {\n",
    "            \"tensor_parallel_size\": 2,\n",
    "            \"gpu_memory_utilization\": 0.6,\n",
    "            \"max_num_seqs\": 512,\n",
    "        },\n",
    "        \"torchtune_args\": {\n",
    "            \"model\": \"qwen2_5_14b_instruct\",\n",
    "            \"model_type\": \"QWEN2\",\n",
    "            \"async_weight_syncing\": True,\n",
    "        },\n",
    "    },\n",
    ")\n",
    "backend = LocalBackend()\n",
    "await model.register(backend)\n",
    "\n",
    "stride = 8\n",
    "for i in range(await model.get_step(), 1_000):\n",
    "    val_groups, train_groups = await asyncio.gather(\n",
    "        art.gather_trajectory_groups(\n",
    "            (\n",
    "                art.TrajectoryGroup(rollout(model, puzzle) for _ in range(2))\n",
    "                for puzzle in val_puzzles\n",
    "            ),\n",
    "            pbar_desc=\"val\",\n",
    "            pbar_total_completion_tokens=False,\n",
    "        ),\n",
    "        art.gather_trajectory_groups(\n",
    "            (\n",
    "                art.TrajectoryGroup(rollout(model, puzzle) for _ in range(50))\n",
    "                for puzzle in train_puzzles[i * stride : (i + 1) * stride]\n",
    "            ),\n",
    "            pbar_desc=\"train\",\n",
    "            pbar_total_completion_tokens=False,\n",
    "        ),\n",
    "    )\n",
    "    await model.log(val_groups)\n",
    "    await model.delete_checkpoints()\n",
    "    await model.train(\n",
    "        train_groups,\n",
    "        config=art.TrainConfig(learning_rate=5e-6),\n",
    "    )"
   ]
  }
 ],
 "metadata": {
  "kernelspec": {
   "display_name": ".venv",
   "language": "python",
   "name": "python3"
  },
  "language_info": {
   "codemirror_mode": {
    "name": "ipython",
    "version": 3
   },
   "file_extension": ".py",
   "mimetype": "text/x-python",
   "name": "python",
   "nbconvert_exporter": "python",
   "pygments_lexer": "ipython3",
   "version": "3.10.13"
  }
 },
 "nbformat": 4,
 "nbformat_minor": 2
}
