{
 "cells": [
  {
   "cell_type": "code",
   "execution_count": 1,
   "id": "fe1b283b",
   "metadata": {},
   "outputs": [],
   "source": [
    "%load_ext autoreload\n",
    "%autoreload 2"
   ]
  },
  {
   "cell_type": "code",
   "execution_count": 2,
   "id": "07762645",
   "metadata": {},
   "outputs": [
    {
     "data": {
      "text/html": [
       "<style>\n",
       ".cell-output-ipywidget-background {\n",
       "    background-color: transparent !important;\n",
       "}\n",
       ":root {\n",
       "    --jp-widgets-color: var(--vscode-editor-foreground);\n",
       "    --jp-widgets-font-size: var(--vscode-editor-font-size);\n",
       "}  \n",
       "</style>\n"
      ],
      "text/plain": [
       "<IPython.core.display.HTML object>"
      ]
     },
     "metadata": {},
     "output_type": "display_data"
    }
   ],
   "source": [
    "%%html\n",
    "<style>\n",
    ".cell-output-ipywidget-background {\n",
    "    background-color: transparent !important;\n",
    "}\n",
    ":root {\n",
    "    --jp-widgets-color: var(--vscode-editor-foreground);\n",
    "    --jp-widgets-font-size: var(--vscode-editor-font-size);\n",
    "}  \n",
    "</style>"
   ]
  },
  {
   "cell_type": "code",
   "execution_count": 3,
   "id": "e7daa6d4",
   "metadata": {},
   "outputs": [
    {
     "name": "stderr",
     "output_type": "stream",
     "text": [
      "None of PyTorch, TensorFlow >= 2.0, or Flax have been found. Models won't be available and only tokenizers, configuration and file/data utilities can be used.\n"
     ]
    },
    {
     "data": {
      "text/plain": [
       "Qwen2TokenizerFast(name_or_path='Qwen/Qwen3-32B', vocab_size=151643, model_max_length=131072, is_fast=True, padding_side='right', truncation_side='right', special_tokens={'eos_token': '<|im_end|>', 'pad_token': '<|endoftext|>', 'additional_special_tokens': ['<|im_start|>', '<|im_end|>', '<|object_ref_start|>', '<|object_ref_end|>', '<|box_start|>', '<|box_end|>', '<|quad_start|>', '<|quad_end|>', '<|vision_start|>', '<|vision_end|>', '<|vision_pad|>', '<|image_pad|>', '<|video_pad|>']}, clean_up_tokenization_spaces=False, added_tokens_decoder={\n",
       "\t151643: AddedToken(\"<|endoftext|>\", rstrip=False, lstrip=False, single_word=False, normalized=False, special=True),\n",
       "\t151644: AddedToken(\"<|im_start|>\", rstrip=False, lstrip=False, single_word=False, normalized=False, special=True),\n",
       "\t151645: AddedToken(\"<|im_end|>\", rstrip=False, lstrip=False, single_word=False, normalized=False, special=True),\n",
       "\t151646: AddedToken(\"<|object_ref_start|>\", rstrip=False, lstrip=False, single_word=False, normalized=False, special=True),\n",
       "\t151647: AddedToken(\"<|object_ref_end|>\", rstrip=False, lstrip=False, single_word=False, normalized=False, special=True),\n",
       "\t151648: AddedToken(\"<|box_start|>\", rstrip=False, lstrip=False, single_word=False, normalized=False, special=True),\n",
       "\t151649: AddedToken(\"<|box_end|>\", rstrip=False, lstrip=False, single_word=False, normalized=False, special=True),\n",
       "\t151650: AddedToken(\"<|quad_start|>\", rstrip=False, lstrip=False, single_word=False, normalized=False, special=True),\n",
       "\t151651: AddedToken(\"<|quad_end|>\", rstrip=False, lstrip=False, single_word=False, normalized=False, special=True),\n",
       "\t151652: AddedToken(\"<|vision_start|>\", rstrip=False, lstrip=False, single_word=False, normalized=False, special=True),\n",
       "\t151653: AddedToken(\"<|vision_end|>\", rstrip=False, lstrip=False, single_word=False, normalized=False, special=True),\n",
       "\t151654: AddedToken(\"<|vision_pad|>\", rstrip=False, lstrip=False, single_word=False, normalized=False, special=True),\n",
       "\t151655: AddedToken(\"<|image_pad|>\", rstrip=False, lstrip=False, single_word=False, normalized=False, special=True),\n",
       "\t151656: AddedToken(\"<|video_pad|>\", rstrip=False, lstrip=False, single_word=False, normalized=False, special=True),\n",
       "\t151657: AddedToken(\"<tool_call>\", rstrip=False, lstrip=False, single_word=False, normalized=False, special=False),\n",
       "\t151658: AddedToken(\"</tool_call>\", rstrip=False, lstrip=False, single_word=False, normalized=False, special=False),\n",
       "\t151659: AddedToken(\"<|fim_prefix|>\", rstrip=False, lstrip=False, single_word=False, normalized=False, special=False),\n",
       "\t151660: AddedToken(\"<|fim_middle|>\", rstrip=False, lstrip=False, single_word=False, normalized=False, special=False),\n",
       "\t151661: AddedToken(\"<|fim_suffix|>\", rstrip=False, lstrip=False, single_word=False, normalized=False, special=False),\n",
       "\t151662: AddedToken(\"<|fim_pad|>\", rstrip=False, lstrip=False, single_word=False, normalized=False, special=False),\n",
       "\t151663: AddedToken(\"<|repo_name|>\", rstrip=False, lstrip=False, single_word=False, normalized=False, special=False),\n",
       "\t151664: AddedToken(\"<|file_sep|>\", rstrip=False, lstrip=False, single_word=False, normalized=False, special=False),\n",
       "\t151665: AddedToken(\"<tool_response>\", rstrip=False, lstrip=False, single_word=False, normalized=False, special=False),\n",
       "\t151666: AddedToken(\"</tool_response>\", rstrip=False, lstrip=False, single_word=False, normalized=False, special=False),\n",
       "\t151667: AddedToken(\"<think>\", rstrip=False, lstrip=False, single_word=False, normalized=False, special=False),\n",
       "\t151668: AddedToken(\"</think>\", rstrip=False, lstrip=False, single_word=False, normalized=False, special=False),\n",
       "}\n",
       ")"
      ]
     },
     "execution_count": 3,
     "metadata": {},
     "output_type": "execute_result"
    }
   ],
   "source": [
    "from transformers import AutoTokenizer\n",
    "\n",
    "tokenizer = AutoTokenizer.from_pretrained(\"Qwen/Qwen3-32B\")\n",
    "tokenizer"
   ]
  },
  {
   "cell_type": "code",
   "execution_count": 4,
   "id": "bcde028a",
   "metadata": {},
   "outputs": [
    {
     "data": {
      "text/plain": [
       "['Hello', ',', ' world', '!']"
      ]
     },
     "execution_count": 4,
     "metadata": {},
     "output_type": "execute_result"
    }
   ],
   "source": [
    "tokens = [tokenizer.decode(token) for token in tokenizer.encode(\"Hello, world!\")]\n",
    "tokens"
   ]
  },
  {
   "cell_type": "code",
   "execution_count": 12,
   "id": "734630ce",
   "metadata": {},
   "outputs": [
    {
     "data": {
      "text/plain": [
       "array([ 0.12048794, -0.84695836, -0.68592883, -0.21220931])"
      ]
     },
     "execution_count": 12,
     "metadata": {},
     "output_type": "execute_result"
    }
   ],
   "source": [
    "import numpy as np\n",
    "\n",
    "values = np.random.randn(len(tokens))\n",
    "values"
   ]
  },
  {
   "cell_type": "code",
   "execution_count": 13,
   "id": "3798550b",
   "metadata": {},
   "outputs": [
    {
     "name": "stdout",
     "output_type": "stream",
     "text": [
      "\u001b[90m╔═════════════════════════════════════════════════════════════╗\u001b[0m\n",
      "\u001b[90m║   Stats: scale= 0.847, min=-0.847, max= 0.120, mean=-0.406  ║\u001b[0m\n",
      "\u001b[90m╚═════════════════════════════════════════════════════════════╝\u001b[0m\n",
      "\n",
      "\u001b[38;2;146;175;198mHello\u001b[0m\u001b[38;2;200;28;43m,\u001b[0m\u001b[38;2;201;30;43m world\u001b[0m\u001b[38;2;191;100;91m!\u001b[0m\n",
      "\n",
      "Value Distribution:\n",
      "  \u001b[38;2;146;175;198mHello \u001b[0m  [──────────│\u001b[38;2;146;175;198m█\u001b[0m────────]    0.120\n",
      "  \u001b[38;2;200;28;43m,     \u001b[0m  [\u001b[38;2;200;28;43m█\u001b[0m─────────│─────────]   -0.847\n",
      "  \u001b[38;2;201;30;43m world\u001b[0m  [─\u001b[38;2;201;30;43m█\u001b[0m────────│─────────]   -0.686\n",
      "  \u001b[38;2;191;100;91m!     \u001b[0m  [───────\u001b[38;2;191;100;91m█\u001b[0m──│─────────]   -0.212\n",
      "\n",
      "\u001b[90m────────────────────────────────────────────────────────────\u001b[0m\n",
      "Gradient (one-dark-simple): \u001b[38;2;200;28;43m█\u001b[0m\u001b[38;2;200;29;43m█\u001b[0m\u001b[38;2;201;30;43m█\u001b[0m\u001b[38;2;201;33;44m█\u001b[0m\u001b[38;2;202;39;46m█\u001b[0m\u001b[38;2;203;47;49m█\u001b[0m\u001b[38;2;199;68;64m█\u001b[0m\u001b[38;2;191;97;88m█\u001b[0m\u001b[38;2;185;125;115m█\u001b[0m\u001b[38;2;174;152;182m█\u001b[0m\u001b[38;2;162;174;189m█\u001b[0m\u001b[38;2;142;173;199m█\u001b[0m\u001b[38;2;117;166;207m█\u001b[0m\u001b[38;2;95;161;215m█\u001b[0m\u001b[38;2;76;157;222m█\u001b[0m\u001b[38;2;62;154;228m█\u001b[0m\u001b[38;2;52;151;233m█\u001b[0m\u001b[38;2;46;150;236m█\u001b[0m\u001b[38;2;43;150;237m█\u001b[0m\u001b[38;2;42;150;237m█\u001b[0m\u001b[0m\n"
     ]
    }
   ],
   "source": [
    "from illustrate import illustrate\n",
    "\n",
    "print(illustrate(list(zip(tokens, values)), gradient=\"one-dark-simple\"))"
   ]
  },
  {
   "cell_type": "code",
   "execution_count": null,
   "id": "bfb44d4d",
   "metadata": {},
   "outputs": [
    {
     "data": {
      "text/plain": [
       "array([0.61551557, 0.58454258, 0.33556734])"
      ]
     },
     "metadata": {},
     "output_type": "display_data"
    },
    {
     "data": {
      "text/plain": [
       "array([0.30304074, 0.23683718, 0.27718443])"
      ]
     },
     "metadata": {},
     "output_type": "display_data"
    },
    {
     "data": {
      "text/plain": [
       "array([ 0.02597066,  0.08825873, -0.0949295 ,  0.23261232, -0.25191222])"
      ]
     },
     "metadata": {},
     "output_type": "display_data"
    },
    {
     "data": {
      "image/png": "[encoded data removed]",
      "text/plain": [
       "<Figure size 800x600 with 2 Axes>"
      ]
     },
     "metadata": {},
     "output_type": "display_data"
    }
   ],
   "source": [
    "# import numpy as np\n",
    "# import matplotlib.pyplot as plt\n",
    "# import seaborn as sns\n",
    "\n",
    "# rewards = np.random.random(size=(3, 5))\n",
    "\n",
    "# display(rewards.mean(axis=1))\n",
    "# display(rewards.std(axis=1))\n",
    "\n",
    "# rewards -= rewards.mean()\n",
    "# display(rewards.mean(axis=0))\n",
    "\n",
    "# plt.figure(figsize=(8, 6))\n",
    "# sns.heatmap(\n",
    "#     rewards, annot=True, cmap=\"viridis\", fmt=\".2f\", cbar_kws={\"label\": \"Reward\"}\n",
    "# )\n",
    "# plt.title(\"Rewards\")\n",
    "# plt.xlabel(\"Token\")\n",
    "# plt.ylabel(\"Trajectory\")\n",
    "# plt.tight_layout()\n",
    "# plt.show()"
   ]
  }
 ],
 "metadata": {
  "kernelspec": {
   "display_name": ".venv",
   "language": "python",
   "name": "python3"
  },
  "language_info": {
   "codemirror_mode": {
    "name": "ipython",
    "version": 3
   },
   "file_extension": ".py",
   "mimetype": "text/x-python",
   "name": "python",
   "nbconvert_exporter": "python",
   "pygments_lexer": "ipython3",
   "version": "3.10.16"
  }
 },
 "nbformat": 4,
 "nbformat_minor": 5
}
