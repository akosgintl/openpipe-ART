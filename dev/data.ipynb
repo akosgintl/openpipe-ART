{
 "cells": [
  {
   "cell_type": "code",
   "execution_count": 1,
   "id": "a7ff6842",
   "metadata": {},
   "outputs": [],
   "source": [
    "%load_ext autoreload\n",
    "%autoreload 2"
   ]
  },
  {
   "cell_type": "code",
   "execution_count": null,
   "id": "01f78de0",
   "metadata": {},
   "outputs": [],
   "source": [
    "import art\n",
    "from art.local import LocalBackend\n",
    "\n",
    "model = art.TrainableModel(\n",
    "    name=\"test\", project=\"tests\", base_model=\"Qwen/Qwen2.5-7B-Instruct\"\n",
    ")\n",
    "await model.register(LocalBackend())"
   ]
  },
  {
   "cell_type": "code",
   "execution_count": 5,
   "id": "6dd4bdb6",
   "metadata": {},
   "outputs": [],
   "source": [
    "client = model.openai_client()\n",
    "\n",
    "chat_completion = await client.chat.completions.create(\n",
    "    model=\"test\",\n",
    "    messages=[{\"role\": \"user\", \"content\": \"Hi!\"}],\n",
    ")"
   ]
  },
  {
   "cell_type": "code",
   "execution_count": 7,
   "id": "d6803a2a",
   "metadata": {},
   "outputs": [
    {
     "data": {
      "text/plain": [
       "{'id': 'chatcmpl-293ce9f37dba40e5be39448acaf6fb49',\n",
       " 'choices': [{'finish_reason': 'stop',\n",
       "   'index': 0,\n",
       "   'logprobs': {'content': [{'token': 'token_id:9707',\n",
       "      'bytes': [72, 101, 108, 108, 111],\n",
       "      'logprob': -0.0017243054462596774,\n",
       "      'top_logprobs': []},\n",
       "     {'token': 'token_id:0',\n",
       "      'bytes': [33],\n",
       "      'logprob': -0.007611795328557491,\n",
       "      'top_logprobs': []},\n",
       "     {'token': 'token_id:2585',\n",
       "      'bytes': [32, 72, 111, 119],\n",
       "      'logprob': -0.03061593696475029,\n",
       "      'top_logprobs': []},\n",
       "     {'token': 'token_id:646',\n",
       "      'bytes': [32, 99, 97, 110],\n",
       "      'logprob': -1.1920858014491387e-05,\n",
       "      'top_logprobs': []},\n",
       "     {'token': 'token_id:358',\n",
       "      'bytes': [32, 73],\n",
       "      'logprob': -2.3841855067985307e-07,\n",
       "      'top_logprobs': []},\n",
       "     {'token': 'token_id:7789',\n",
       "      'bytes': [32, 97, 115, 115, 105, 115, 116],\n",
       "      'logprob': -0.020548323169350624,\n",
       "      'top_logprobs': []},\n",
       "     {'token': 'token_id:498',\n",
       "      'bytes': [32, 121, 111, 117],\n",
       "      'logprob': 0.0,\n",
       "      'top_logprobs': []},\n",
       "     {'token': 'token_id:3351',\n",
       "      'bytes': [32, 116, 111, 100, 97, 121],\n",
       "      'logprob': -4.410734163684538e-06,\n",
       "      'top_logprobs': []},\n",
       "     {'token': 'token_id:30',\n",
       "      'bytes': [63],\n",
       "      'logprob': -2.3841855067985307e-07,\n",
       "      'top_logprobs': []},\n",
       "     {'token': 'token_id:151645',\n",
       "      'bytes': [],\n",
       "      'logprob': -0.0083366259932518,\n",
       "      'top_logprobs': []}],\n",
       "    'refusal': None},\n",
       "   'message': {'content': 'Hello! How can I assist you today?',\n",
       "    'refusal': None,\n",
       "    'role': 'assistant',\n",
       "    'annotations': None,\n",
       "    'audio': None,\n",
       "    'function_call': None,\n",
       "    'tool_calls': [],\n",
       "    'reasoning_content': None},\n",
       "   'stop_reason': None}],\n",
       " 'created': 1755801745,\n",
       " 'model': 'test',\n",
       " 'object': 'chat.completion',\n",
       " 'service_tier': None,\n",
       " 'system_fingerprint': None,\n",
       " 'usage': {'completion_tokens': 10,\n",
       "  'prompt_tokens': 31,\n",
       "  'total_tokens': 41,\n",
       "  'completion_tokens_details': None,\n",
       "  'prompt_tokens_details': None},\n",
       " 'prompt_logprobs': None,\n",
       " 'kv_transfer_params': None}"
      ]
     },
     "execution_count": 7,
     "metadata": {},
     "output_type": "execute_result"
    }
   ],
   "source": [
    "chat_completion.model_dump(mode=\"json\")"
   ]
  }
 ],
 "metadata": {
  "kernelspec": {
   "display_name": ".venv",
   "language": "python",
   "name": "python3"
  },
  "language_info": {
   "codemirror_mode": {
    "name": "ipython",
    "version": 3
   },
   "file_extension": ".py",
   "mimetype": "text/x-python",
   "name": "python",
   "nbconvert_exporter": "python",
   "pygments_lexer": "ipython3",
   "version": "3.10.13"
  }
 },
 "nbformat": 4,
 "nbformat_minor": 5
}
