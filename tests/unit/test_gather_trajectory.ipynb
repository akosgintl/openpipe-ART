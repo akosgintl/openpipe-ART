{
 "cells": [
  {
   "cell_type": "code",
   "execution_count": 1,
   "id": "e24171fe",
   "metadata": {},
   "outputs": [
    {
     "name": "stdout",
     "output_type": "stream",
     "text": [
      "Server running on http://localhost:8889\n"
     ]
    }
   ],
   "source": [
    "from aiohttp import web\n",
    "\n",
    "\n",
    "async def handler(request: web.Request) -> web.Response:\n",
    "    body = await request.read()\n",
    "    return web.Response(body=body)\n",
    "\n",
    "\n",
    "app = web.Application()\n",
    "app.router.add_route(\"POST\", \"/{p:.*}\", handler)\n",
    "\n",
    "# Non-blocking async runner\n",
    "runner = web.AppRunner(app)\n",
    "await runner.setup()\n",
    "site = web.TCPSite(runner, \"localhost\", 8889)\n",
    "await site.start()\n",
    "print(\"Server running on http://localhost:8889\")"
   ]
  }
 ],
 "metadata": {
  "kernelspec": {
   "display_name": ".venv",
   "language": "python",
   "name": "python3"
  },
  "language_info": {
   "codemirror_mode": {
    "name": "ipython",
    "version": 3
   },
   "file_extension": ".py",
   "mimetype": "text/x-python",
   "name": "python",
   "nbconvert_exporter": "python",
   "pygments_lexer": "ipython3",
   "version": "3.10.13"
  }
 },
 "nbformat": 4,
 "nbformat_minor": 5
}
