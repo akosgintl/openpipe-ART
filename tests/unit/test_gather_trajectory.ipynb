{
 "cells": [
  {
   "cell_type": "code",
   "execution_count": null,
   "id": "e24171fe",
   "metadata": {},
   "outputs": [],
   "source": [
    "from aiohttp import web\n",
    "\n",
    "\n",
    "async def handler(request: web.Request) -> web.Response:\n",
    "    body = await request.read()\n",
    "    return web.Response(body=body)\n",
    "\n",
    "\n",
    "app = web.Application()\n",
    "app.router.add_route(\"POST\", \"/{p:.*}\", handler)\n",
    "\n",
    "# Non-blocking async runner\n",
    "runner = web.AppRunner(app)\n",
    "await runner.setup()\n",
    "site = web.TCPSite(runner, 'localhost', 8888)\n",
    "await site.start()\n",
    "print(\"Server running on http://localhost:8888\")"
   ]
  }
 ],
 "metadata": {
  "kernelspec": {
   "display_name": ".venv",
   "language": "python",
   "name": "python3"
  },
  "language_info": {
   "name": "python",
   "version": "3.10.13"
  }
 },
 "nbformat": 4,
 "nbformat_minor": 5
}
