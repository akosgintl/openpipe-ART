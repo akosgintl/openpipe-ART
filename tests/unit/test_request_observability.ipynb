{
 "cells": [
  {
   "cell_type": "code",
   "execution_count": 1,
   "id": "cfb0cf3c",
   "metadata": {},
   "outputs": [
    {
     "name": "stdout",
     "output_type": "stream",
     "text": [
      "Server running on http://localhost:8888\n"
     ]
    }
   ],
   "source": [
    "from aiohttp import web\n",
    "\n",
    "\n",
    "async def h(r: web.Request) -> web.Response:\n",
    "    return web.Response(text=f\"{r.method} {r.path}\")\n",
    "\n",
    "\n",
    "app = web.Application()\n",
    "app.router.add_route(\"*\", \"/{p:.*}\", h)\n",
    "\n",
    "# Non-blocking async runner\n",
    "runner = web.AppRunner(app)\n",
    "await runner.setup()\n",
    "site = web.TCPSite(runner, \"localhost\", 8888)\n",
    "await site.start()\n",
    "print(\"Server running on http://localhost:8888\")\n",
    "# Server is now running in the background!\n",
    "# To stop later: await runner.cleanup()"
   ]
  },
  {
   "cell_type": "code",
   "execution_count": 2,
   "id": "f1ce74a9",
   "metadata": {},
   "outputs": [
    {
     "name": "stdout",
     "output_type": "stream",
     "text": [
      "Making test requests...\n",
      "Response 1: GET /\n",
      "Response 2: POST /test\n",
      "Response 3: GET /path/to/resource\n"
     ]
    }
   ],
   "source": [
    "# Test the callback by making HTTP requests\n",
    "import httpx\n",
    "\n",
    "async with httpx.AsyncClient() as client:\n",
    "    # Make multiple requests to see callbacks in action\n",
    "    print(\"Making test requests...\")\n",
    "\n",
    "    r1 = await client.get(\"http://localhost:8888/\")\n",
    "    print(f\"Response 1: {r1.text}\")\n",
    "\n",
    "    r2 = await client.post(\"http://localhost:8888/test\", json={\"data\": \"test\"})\n",
    "    print(f\"Response 2: {r2.text}\")\n",
    "\n",
    "    r3 = await client.get(\"http://localhost:8888/path/to/resource\")\n",
    "    print(f\"Response 3: {r3.text}\")"
   ]
  },
  {
   "cell_type": "code",
   "execution_count": 3,
   "id": "948f1bcd",
   "metadata": {},
   "outputs": [
    {
     "name": "stdout",
     "output_type": "stream",
     "text": [
      "Response aclosed: 200 OK\n"
     ]
    }
   ],
   "source": [
    "import httpx._models\n",
    "\n",
    "original_close = httpx._models.Response.close\n",
    "original_aclose = httpx._models.Response.aclose\n",
    "\n",
    "\n",
    "def patched_close(self: httpx._models.Response) -> None:\n",
    "    original_close(self)\n",
    "    print(f\"Response closed: {self.status_code} {self.reason_phrase}\")\n",
    "\n",
    "\n",
    "async def patched_aclose(self: httpx._models.Response) -> None:\n",
    "    await original_aclose(self)\n",
    "    print(f\"Response aclosed: {self.status_code} {self.reason_phrase}\")\n",
    "\n",
    "\n",
    "httpx._models.Response.close = patched_close\n",
    "httpx._models.Response.aclose = patched_aclose\n",
    "\n",
    "\n",
    "async with httpx.AsyncClient() as client:\n",
    "    r = await client.get(\"http://localhost:8888/\")\n",
    "    r.content"
   ]
  },
  {
   "cell_type": "code",
   "execution_count": 4,
   "id": "f97afafe",
   "metadata": {},
   "outputs": [
    {
     "name": "stdout",
     "output_type": "stream",
     "text": [
      "✅ httpx Response class patched with callback support\n"
     ]
    }
   ],
   "source": [
    "import functools\n",
    "from typing import Any, Callable, List\n",
    "\n",
    "import httpx\n",
    "import httpx._models\n",
    "\n",
    "# Storage for response callbacks\n",
    "response_callbacks: List[Callable] = []\n",
    "\n",
    "\n",
    "def add_response_callback(callback: Callable) -> None:\n",
    "    \"\"\"Add a callback to be called when a Response is created.\"\"\"\n",
    "    response_callbacks.append(callback)\n",
    "\n",
    "\n",
    "def clear_response_callbacks() -> None:\n",
    "    \"\"\"Clear all response callbacks.\"\"\"\n",
    "    response_callbacks.clear()\n",
    "\n",
    "\n",
    "# Store the original Response.__init__\n",
    "original_response_init = httpx._models.Response.__init__\n",
    "\n",
    "\n",
    "@functools.wraps(original_response_init)\n",
    "def patched_response_init(self, *args, **kwargs):\n",
    "    \"\"\"Patched Response.__init__ that calls callbacks.\"\"\"\n",
    "    # Call the original init first\n",
    "    original_response_init(self, *args, **kwargs)\n",
    "\n",
    "    # Call all registered callbacks\n",
    "    for callback in response_callbacks:\n",
    "        try:\n",
    "            callback(self)\n",
    "        except Exception as e:\n",
    "            print(f\"Error in response callback: {e}\")\n",
    "\n",
    "\n",
    "# Apply the patch\n",
    "httpx._models.Response.__init__ = patched_response_init\n",
    "print(\"✅ httpx Response class patched with callback support\")"
   ]
  },
  {
   "cell_type": "code",
   "execution_count": 5,
   "id": "c2c201a3",
   "metadata": {},
   "outputs": [
    {
     "name": "stdout",
     "output_type": "stream",
     "text": [
      "Callback registered - will log all HTTP responses\n"
     ]
    }
   ],
   "source": [
    "# Example: Create a callback to track all responses\n",
    "from datetime import datetime\n",
    "\n",
    "response_log = []\n",
    "\n",
    "\n",
    "def log_response(response):\n",
    "    \"\"\"Callback that logs response details.\"\"\"\n",
    "    log_entry = {\n",
    "        \"timestamp\": datetime.now().isoformat(),\n",
    "        \"status_code\": response.status_code,\n",
    "        \"url\": str(response.url)\n",
    "        if hasattr(response, \"_request\") and response._request\n",
    "        else \"N/A\",\n",
    "        \"headers\": dict(response.headers),\n",
    "        \"http_version\": response.http_version,\n",
    "        \"reason_phrase\": response.reason_phrase,\n",
    "    }\n",
    "    response_log.append(log_entry)\n",
    "    print(f\"📊 Response captured: {response.status_code} {response.reason_phrase}\")\n",
    "\n",
    "\n",
    "# Register the callback\n",
    "add_response_callback(log_response)\n",
    "print(\"Callback registered - will log all HTTP responses\")"
   ]
  },
  {
   "cell_type": "code",
   "execution_count": 6,
   "id": "99a56e15",
   "metadata": {},
   "outputs": [
    {
     "name": "stdout",
     "output_type": "stream",
     "text": [
      "\n",
      "📋 Total responses captured: 0\n",
      "------------------------------------------------------------\n",
      "\n",
      "🔍 Full log available in 'response_log' variable\n",
      "Example: response_log[0] = {}...\n"
     ]
    }
   ],
   "source": [
    "# Display the captured response log\n",
    "import json\n",
    "\n",
    "print(f\"\\n📋 Total responses captured: {len(response_log)}\")\n",
    "print(\"-\" * 60)\n",
    "\n",
    "for i, entry in enumerate(response_log, 1):\n",
    "    print(f\"\\n📌 Response #{i}:\")\n",
    "    print(f\"  Timestamp: {entry['timestamp']}\")\n",
    "    print(f\"  Status: {entry['status_code']} {entry['reason_phrase']}\")\n",
    "    print(f\"  URL: {entry['url']}\")\n",
    "    print(f\"  HTTP Version: {entry['http_version']}\")\n",
    "    print(f\"  Headers (sample): {dict(list(entry['headers'].items())[:3])}...\")\n",
    "\n",
    "# You can also get more detailed info\n",
    "print(f\"\\n🔍 Full log available in 'response_log' variable\")\n",
    "print(\n",
    "    f\"Example: response_log[0] = {json.dumps(response_log[0] if response_log else {}, indent=2)[:200]}...\"\n",
    ")"
   ]
  },
  {
   "cell_type": "code",
   "execution_count": 7,
   "id": "9ef7a5f2",
   "metadata": {},
   "outputs": [
    {
     "name": "stdout",
     "output_type": "stream",
     "text": [
      "✅ Advanced callbacks registered!\n",
      "Total active callbacks: 4\n"
     ]
    }
   ],
   "source": [
    "# Advanced example: Multiple callbacks with different purposes\n",
    "import time\n",
    "from collections import defaultdict\n",
    "\n",
    "# Callback 1: Count responses by status code\n",
    "status_counter = defaultdict(int)\n",
    "\n",
    "\n",
    "def count_status_codes(response):\n",
    "    status_counter[response.status_code] += 1\n",
    "\n",
    "\n",
    "# Callback 2: Track response times\n",
    "response_times = []\n",
    "start_times = {}\n",
    "\n",
    "\n",
    "def track_response_time(response):\n",
    "    # Note: This is a simplified example. In real scenarios,\n",
    "    # you'd track request start time differently\n",
    "    response_times.append(\n",
    "        {\n",
    "            \"url\": str(response.url)\n",
    "            if hasattr(response, \"_request\") and response._request\n",
    "            else \"N/A\",\n",
    "            \"status\": response.status_code,\n",
    "            \"timestamp\": time.time(),\n",
    "        }\n",
    "    )\n",
    "\n",
    "\n",
    "# Callback 3: Alert on errors\n",
    "def alert_on_errors(response):\n",
    "    if response.status_code >= 400:\n",
    "        print(\n",
    "            f\"⚠️ ERROR RESPONSE: {response.status_code} for {response.url if hasattr(response, '_request') and response._request else 'unknown URL'}\"\n",
    "        )\n",
    "\n",
    "\n",
    "# Register all callbacks\n",
    "add_response_callback(count_status_codes)\n",
    "add_response_callback(track_response_time)\n",
    "add_response_callback(alert_on_errors)\n",
    "\n",
    "print(\"✅ Advanced callbacks registered!\")\n",
    "print(f\"Total active callbacks: {len(response_callbacks)}\")"
   ]
  },
  {
   "cell_type": "code",
   "execution_count": 8,
   "id": "00ce67f9",
   "metadata": {},
   "outputs": [
    {
     "name": "stdout",
     "output_type": "stream",
     "text": [
      "Testing with all callbacks active...\n",
      "📊 Response captured: 200 OK\n",
      "Response aclosed: 200 OK\n",
      "📊 Response captured: 200 OK\n",
      "Response aclosed: 200 OK\n",
      "📊 Response captured: 200 OK\n",
      "Response aclosed: 200 OK\n",
      "Expected error: All connection attempts failed\n",
      "\n",
      "📊 Status code counts: {200: 3}\n",
      "📈 Total responses tracked: 3\n",
      "\n",
      "🧹 Cleaning up...\n",
      "Before cleanup: 4 callbacks\n",
      "After cleanup: 0 callbacks\n"
     ]
    }
   ],
   "source": [
    "# Test advanced callbacks and demonstrate cleanup\n",
    "async with httpx.AsyncClient() as client:\n",
    "    print(\"Testing with all callbacks active...\")\n",
    "\n",
    "    # Make requests including one that will cause an error (404)\n",
    "    await client.get(\"http://localhost:8888/\")\n",
    "    await client.get(\"http://localhost:8888/api/users\")\n",
    "    await client.post(\"http://localhost:8888/api/data\", json={\"test\": \"data\"})\n",
    "\n",
    "    # This will trigger a 404 (path doesn't exist on most servers)\n",
    "    # But our test server responds to all paths, so let's simulate an error scenario\n",
    "    # by making a request to a non-existent server\n",
    "    try:\n",
    "        await client.get(\"http://localhost:9999/\", timeout=1.0)\n",
    "    except Exception as e:\n",
    "        print(f\"Expected error: {e}\")\n",
    "\n",
    "print(f\"\\n📊 Status code counts: {dict(status_counter)}\")\n",
    "print(f\"📈 Total responses tracked: {len(response_times)}\")\n",
    "\n",
    "# Demonstrate cleanup\n",
    "print(f\"\\n🧹 Cleaning up...\")\n",
    "print(f\"Before cleanup: {len(response_callbacks)} callbacks\")\n",
    "clear_response_callbacks()\n",
    "print(f\"After cleanup: {len(response_callbacks)} callbacks\")\n",
    "\n",
    "# You can also restore the original Response.__init__ if needed\n",
    "# httpx._models.Response.__init__ = original_response_init\n",
    "# print(\"✅ Original Response.__init__ restored\")"
   ]
  },
  {
   "cell_type": "code",
   "execution_count": 9,
   "id": "f646052c",
   "metadata": {},
   "outputs": [
    {
     "name": "stdout",
     "output_type": "stream",
     "text": [
      "💡 Patch remains active. Call restore_original_response() to revert.\n"
     ]
    }
   ],
   "source": [
    "# Optional: Restore original behavior completely\n",
    "def restore_original_response():\n",
    "    \"\"\"Restore the original Response.__init__ method.\"\"\"\n",
    "    httpx._models.Response.__init__ = original_response_init\n",
    "    clear_response_callbacks()\n",
    "    print(\"✅ Original httpx Response behavior restored\")\n",
    "    print(\"   - Original __init__ method restored\")\n",
    "    print(\"   - All callbacks cleared\")\n",
    "\n",
    "\n",
    "# Uncomment to restore:\n",
    "# restore_original_response()\n",
    "\n",
    "# Or keep the patched version for observability\n",
    "print(\"💡 Patch remains active. Call restore_original_response() to revert.\")"
   ]
  }
 ],
 "metadata": {
  "kernelspec": {
   "display_name": ".venv",
   "language": "python",
   "name": "python3"
  },
  "language_info": {
   "codemirror_mode": {
    "name": "ipython",
    "version": 3
   },
   "file_extension": ".py",
   "mimetype": "text/x-python",
   "name": "python",
   "nbconvert_exporter": "python",
   "pygments_lexer": "ipython3",
   "version": "3.10.13"
  }
 },
 "nbformat": 4,
 "nbformat_minor": 5
}
